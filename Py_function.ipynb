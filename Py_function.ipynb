{
 "cells": [
  {
   "cell_type": "markdown",
   "id": "c02867e2",
   "metadata": {},
   "source": [
    "# Functions: A block of code, whome the user can use for many times  \n",
    "#We only have to write the function defination, we do not have to accept the input form the user or print output the console.  \n",
    "\n",
    "# Mmodularity, readibility, reusability. \n",
    "#if there is any bug in any code, then debug only that one. \n",
    "\n",
    "\n",
    "# Abstraction. \n",
    "#regardless of the code written inside the function, the user deals wtih only input and output. \n",
    "#Bulding functions is nothing but designing algorithims to give resultant output. \n",
    "\n",
    "# Decomposition.\n",
    "#To build one complete function. defining numurous functions, for diffrent-diffrent tasks.  \n",
    "\n",
    "\n",
    "#defining a function and using many times. #Reusebility \n",
    "#helps us to do many compuations, without writing the function repeatdly fro the same operstion.\n",
    "\n",
    "# i.e. \n",
    "def sum(a,b): #name #parameters\n",
    "    \"Docstirng( documantation), which is a manual of the fuction. defines the working of the function\"\n",
    "\n",
    "    c= a+b   #Body \n",
    "    return c #return output\n",
    "\n",
    "sum(a = x, b = y)  #Call to the function with \"arguments\".\n",
    "a\n",
    "# Access the docstring of the function. \n",
    "name.__doc__ \n",
    "\n",
    "\n",
    "# Insuraity of the function.\n",
    "#To make sure that the function will not throw errors, after creation. \n",
    "#1 Input data-type. \n",
    "#2 syntax, etc.\n",
    "\n",
    "# giving defult arguments. \n",
    "#there will chances, that the user will not give appropriate arguments to the function. \n",
    "#giving defult argument/s makes sure that the code will not crash. \n",
    "\n",
    "#  i.e.\n",
    "def sqr(n = 1):\n",
    "      \"\"\"\n",
    "      The function returns the square-root of the input intiger. \n",
    "      \"\"\"\n",
    "\n",
    "    if type(n) == int: #making suarity, that the input is int dtype.      \n",
    "     return n**2 #n = n*n   \n",
    "    else:\n",
    "        return \"Invalid Input\"\n",
    "\n",
    "\n",
    "\n",
    "# Python fallows positional argument. \n",
    "\n",
    "# key word argument has more percidance than positional argument, \n",
    "#having more than one paramenter in function, there will be chances that the parameters will not get arguments appropiatly, or interchaging of the arguments will possible. \n",
    "\n",
    "#Give the arguments with the \"names of parameters\". \n",
    "#i.e. \n",
    "def choose(m,n):\n",
    "    return factorial(m) // (factorial(n)*factorial(m-n))\n",
    "choose(m=5, n=3) \n",
    "\n",
    "# *args (*any name): user can give multiple arguments at a time to the function, without using multiple parameters.   \n",
    "#allows us to variable no. of non key-words arguments.  \n",
    "\n",
    "def mul(*args): \n",
    "    pro = 1 \n",
    "    \n",
    "    for i in args:  #args will tuple of those arguments in it. \n",
    "        pro = pro* i\n",
    "              \n",
    "    print(args)\n",
    "    return pro \n",
    "mul(12,34,56,6,4,3)    \n",
    "\n",
    "# kwargs: give arguments in the form key value pairs. \n",
    "def CGPA(*avg,**score):\n",
    "  cgpa = 0 \n",
    "  for gpa in avg:\n",
    "    cgpa += gpa\n",
    "    cgpa = cgpa/len(avg)\n",
    "      \n",
    "  for (keys,values) in score.items():   \n",
    "      print(keys,values ,\",IIT M (DSAI Department) scored the CGPA of\",cgpa) \n",
    "      \n",
    "CGPA(98,89,89,100, Omkar_Vibhute = \"Maharastra\")  \n",
    "# when building a function in which both *args ansd **kwargs are in use. then *args has to be in 1st place. \n",
    "\n",
    "# Global variable vs Local variable. \n",
    "\n",
    "def g(y = 3):\n",
    "  x = k   #local variabel uses the global variable to return the output. \n",
    "  return x\n",
    "  print x+1   #ones the function ends the local variable gets detroyd. \n",
    "  \n",
    "x = 3  ## Global variabel.  \n",
    "g(x)    \n",
    "print(x)     \n",
    "\n",
    "# but the local variable can't use global variabel to return output.  \n",
    "\n",
    "# if it's requried in case that the programar has to use the global variable as local variable, then assiging \"global\" as local can be possible.   i.e. \"global(y) x\".  but not a good practice. \n",
    "i.e. \n",
    "def g(y):  #local varialbe  \n",
    "  global x   \n",
    "  x += 1   #globel variable, inside the function(inside the body)\n",
    "  print(x)\n",
    "  y *= 10 \n",
    "  print(y) \n",
    "\n",
    "x = 9 ## local variabel. #outside the fuction    #1st \n",
    "g(x)  \n",
    "\n",
    "\n",
    "#After the call to the fuction, local variable will creat a variable form the local argument. then it will get enter the main function.and the local variable becomes  global varialbe\n",
    "\n",
    "#irrespective of the name of the local(i.e. x) variable and global(i.e. x) varibale (i.e. same name) they always acts as diffrent entity. \n",
    "\n",
    "#function will enter to the global frame and the parameter/s will get assigined the values(input) of arguments. \n",
    "\n",
    "# Chenges in the global variable are not possible in the local scope but in global can. i.e. loacl variable is not defiend with that name. \n"
   ]
  },
  {
   "cell_type": "code",
   "execution_count": null,
   "id": "7621005a",
   "metadata": {},
   "outputs": [
    {
     "name": "stdout",
     "output_type": "stream",
     "text": [
      "5\n"
     ]
    },
    {
     "data": {
      "text/plain": [
       "80"
      ]
     },
     "execution_count": 6,
     "metadata": {},
     "output_type": "execute_result"
    }
   ],
   "source": [
    "def g(y = 1):  #local varialbe \n",
    "  if type(y) == int():   \n",
    "   global x  \n",
    "  x = x+1     #globel variable, inside the function \n",
    "  print(x)\n",
    "  #return y*4*x   \n",
    "  \n",
    "x = 4  ## local variabel. #outside the fuction   #1st \n",
    "g(x)  ## local argument       "
   ]
  },
  {
   "cell_type": "markdown",
   "id": "8c395008",
   "metadata": {},
   "source": [
    "# Creation of global variable inside local scope can be possible. \n",
    "#Not good practice "
   ]
  },
  {
   "cell_type": "code",
   "execution_count": null,
   "id": "13cf18d7",
   "metadata": {},
   "outputs": [
    {
     "name": "stdout",
     "output_type": "stream",
     "text": [
      "Global 5\n",
      "5\n"
     ]
    }
   ],
   "source": [
    "def tan():\n",
    "    global a\n",
    "    a = 5\n",
    "    print(\"Global\",a)\n",
    "\n",
    "tan()\n",
    "print(a)"
   ]
  },
  {
   "cell_type": "markdown",
   "id": "63980bf0",
   "metadata": {},
   "source": []
  },
  {
   "cell_type": "markdown",
   "id": "3b2e9fdd",
   "metadata": {},
   "source": [
    "# Nested Functions.: mostly used to hid some pice fo codes inside.  \n",
    "def f(n):\n",
    "    def g(h):   [#nested one, which always hid inside the parent function.]\n",
    "        print(h)      \n",
    "    g(18)\n",
    "    print(n)\n",
    "    \n",
    "f(19)   \n",
    "\n",
    "#infinite calling \n",
    "\n",
    "def g(w):\n",
    "    def f(k):\n",
    "     print(k) \n",
    "    y = 4\n",
    "    f(y)    \n",
    "    g(x)    \n",
    "x = 1   \n",
    "g(x)  \n",
    "\n",
    "\n",
    "def g(x):\n",
    "    def h(x):\n",
    "        x += 1\n",
    "        print(\"x\",x)\n",
    "    x += 1\n",
    "    print(\"x\",x)\n",
    "    h(x)\n",
    "    return x \n",
    "\n",
    "\n",
    "x = 5 \n",
    "z = g(x)  \n",
    "print(\"x:\",x)\n",
    "print(\"z\",z)\n",
    " l.append(map(lambda x: x-mue,x))"
   ]
  },
  {
   "cell_type": "code",
   "execution_count": null,
   "id": "9bd93ace",
   "metadata": {},
   "outputs": [
    {
     "name": "stdout",
     "output_type": "stream",
     "text": [
      "Mean: 5.775\n",
      "deviation of points about the mean: [0.47500000000000053, 0.22499999999999964, 0.7249999999999996, 0.5750000000000002, 1.0249999999999995, 0.9249999999999998, 0.07500000000000018, 1.375, 0.1750000000000007, 0.625, 0.7249999999999996, 0.4249999999999998, 0.7249999999999996, 0.875, 0.5249999999999995, 1.375, 0.3249999999999993, 0.1750000000000007, 1.4750000000000005, 0.3249999999999993]\n"
     ]
    },
    {
     "data": {
      "text/plain": [
       "('standard_deviation:', 0.7725768570181222)"
      ]
     },
     "execution_count": 17,
     "metadata": {},
     "output_type": "execute_result"
    }
   ],
   "source": [
    "def stand(iid):\n",
    "    \"\"\"\n",
    "    The function returns \"Standard Deviation\" of input the data.\n",
    "    input -> Numarical values(data).\n",
    "    output -> Standard deviation. \n",
    "    date -> 24/09/25\n",
    "    \"\"\"\n",
    "\n",
    "    def mean_dev(mue):       \n",
    "        deviations = [ ]\n",
    "        print(\"Mean:\",mue)  \n",
    "        \n",
    "        for i in iid: \n",
    "            deviations.append(abs(i- mue))  #Get deviation of data set\n",
    "        print(\"deviation of points about the mean:\", deviations)\n",
    "\n",
    "        SD =  (lambda x: (sum(x)/len(x))**0.5)(list(map(lambda x: x**2,deviations)))  #lambda = parent: mean_dev\n",
    "        \n",
    "        return \"standard_deviation:\",SD   #child fuction deactivated\n",
    "  \n",
    "    return mean_dev   #parent fuction deactivated\n",
    "   \n",
    "\n",
    "iid_sample= [5.3, 6.0, 6.5, 5.2, 6.8, 6.7, 5.7, 4.4, 5.6, 6.4, 6.5, 6.2, 6.5, 4.9, 6.3, 4.4, 6.1, 5.6, 4.3, 6.1]\n",
    "\n",
    "stand(iid_sample)(sum(iid_sample)/len(iid_sample))  "
   ]
  },
  {
   "cell_type": "code",
   "execution_count": null,
   "id": "e54f74fc",
   "metadata": {},
   "outputs": [
    {
     "name": "stdout",
     "output_type": "stream",
     "text": [
      "Mean: 5.775\n"
     ]
    },
    {
     "data": {
      "text/plain": [
       "('standard_deviation:', 0.7725768570181222)"
      ]
     },
     "execution_count": 5,
     "metadata": {},
     "output_type": "execute_result"
    }
   ],
   "source": [
    "def stand(iid):\n",
    "    \n",
    "    def mean_dev(mue):       \n",
    "        print(\"Mean:\",mue)  \n",
    "     \n",
    "        SD =  (lambda x: (sum(x)/len(x))**0.5)(list(map(lambda x: x**2, list(map(lambda x: abs(x - mue),iid)))))\n",
    "        #lambda = parent: mean_dev \n",
    "        \n",
    "        return \"standard_deviation:\",SD   \n",
    "    return mean_dev   #nested function called by parrent function. \n",
    "\n",
    "iid_sample= [5.3, 6.0, 6.5, 5.2, 6.8, 6.7, 5.7, 4.4, 5.6, 6.4, 6.5, 6.2, 6.5, 4.9, 6.3, 4.4, 6.1, 5.6, 4.3, 6.1]\n",
    "\n",
    "stand(iid_sample)(sum(iid_sample)/len(iid_sample))  "
   ]
  },
  {
   "cell_type": "code",
   "execution_count": null,
   "id": "ee6924a1",
   "metadata": {},
   "outputs": [
    {
     "name": "stdout",
     "output_type": "stream",
     "text": [
      "Avg: 72.33333333333333\n"
     ]
    },
    {
     "data": {
      "text/plain": [
       "'Grade: B'"
      ]
     },
     "execution_count": 25,
     "metadata": {},
     "output_type": "execute_result"
    }
   ],
   "source": [
    "#student grading system\n",
    "def grade(marks):\n",
    "    \n",
    "    def avg(l):\n",
    "        mean = sum(l)/len(l)\n",
    "        print(\"Avg:\",mean) \n",
    "        \n",
    "        def get_grade(mean):   \n",
    "            if mean >= 80:\n",
    "             return \"Grade A\"\n",
    "            elif 70 <= mean <80:  \n",
    "             return \"Grade: B\"\n",
    "            elif 60<= mean < 70:\n",
    "                return \"Grade: C\"\n",
    "            else:\n",
    "                return \"Grade: D\"   \n",
    "            \n",
    "        return get_grade(mean)     \n",
    "          \n",
    "    return avg(marks)    \n",
    "\n",
    "l = [82,75,60]\n",
    "grade(l)\n",
    "#CGPA "
   ]
  },
  {
   "cell_type": "code",
   "execution_count": null,
   "id": "2b47fbee",
   "metadata": {},
   "outputs": [],
   "source": [
    "\n",
    "map(lambda x: sum(x)/len(x) ,lambda x: x*2, l)"
   ]
  },
  {
   "cell_type": "code",
   "execution_count": null,
   "id": "2e699829",
   "metadata": {},
   "outputs": [
    {
     "name": "stdout",
     "output_type": "stream",
     "text": [
      "\n",
      "0.7725768570181222\n",
      "88.0\n"
     ]
    }
   ],
   "source": []
  },
  {
   "cell_type": "markdown",
   "id": "ccb2cad3",
   "metadata": {},
   "source": [
    "# Functions in python are 1st class citizens. \n",
    "\n",
    "i.e. int, list, dict, tuple, etc. \n",
    "#they have there own data type.  \n",
    "\n",
    "# A defined function always have its own class type and id. \n",
    "it acts as a data type and it ca n perform all those things which can be performed by other dtypes. \n",
    "\n",
    "# i.e. Can be stored in variables. "
   ]
  },
  {
   "cell_type": "code",
   "execution_count": null,
   "id": "f61c9d1b",
   "metadata": {},
   "outputs": [],
   "source": [
    "def squ(a):\n",
    "    return a**2 \n",
    "\n",
    "print(type(squ))\n",
    "id(squ)\n",
    "\n",
    "x = squ  \n",
    "y = x \n",
    "\n",
    "id(y)    #Store in multiple variables \n",
    "type(y) \n",
    "y(3) \n",
    "\n",
    "del y   #delete the function \n",
    "\n",
    "#print(type(y))  #error, not defined \n"
   ]
  },
  {
   "cell_type": "markdown",
   "id": "344c9394",
   "metadata": {},
   "source": [
    "# Piplines:\n",
    "\n",
    "A pipline a sequance of function (steps) that takes input and process it step by step and produce output. \n",
    "insted of writing big block of code, orginize takes into stages. and output one becomes input of next. \n",
    "\n",
    "#Data engineering. \n",
    "ETL piplines(Extract, transform load):\n",
    "\n",
    ">Row data( database, files, APIs).\n",
    "\n",
    ">Transform( clean, normalize, feature engineering) \n",
    "\n",
    ">Load into ML models. \n",
    "\n",
    "# i.e \n",
    "#ML piplines: Data preprocessing > FE > model traning  > Evalution > Deployment. \n",
    "\n",
    "#Adv.\n",
    "Automation, same proces works on new data, Teams can works on modular steps. \n",
    "\n",
    "\n"
   ]
  },
  {
   "cell_type": "markdown",
   "id": "47d03567",
   "metadata": {},
   "source": [
    "#nested \n",
    "# Higher order functions : In  which a fuction recives another function as input\n",
    "#returning a function by parent function \n",
    "  \n",
    "#Closuers( remebaring values) \n",
    "#helps in defining local varialbes without using \"global\" variables.  \n",
    "\n",
    "# Callback in futional progrming:\n",
    "Higher orde function sometimes are needed to pass around fuctions as values i.e. piplines, GUIs. \n",
    "\n"
   ]
  },
  {
   "cell_type": "code",
   "execution_count": null,
   "id": "11360007",
   "metadata": {},
   "outputs": [
    {
     "name": "stdout",
     "output_type": "stream",
     "text": [
      "7\n",
      "25\n",
      "8\n"
     ]
    }
   ],
   "source": [
    "def out(a=1 ,b=1):\n",
    "   op = (lambda a,b: a+b)(a,b)\n",
    "   return op \n",
    "\n",
    "val = out(3,4)  #after the return of sum from line 6  out == sum  and  val = sum(3,4)\n",
    "print(val)          \n",
    "\n",
    "\n",
    "#genrating new function baed on conditions. \n",
    "def power_of(n):\n",
    "    def inner(x):\n",
    "        return x ** n\n",
    "    return inner\n",
    "\n",
    "#square = power_of(2)\n",
    "square  = power_of(2)   #inner(function)  get stored in square named avriable. \n",
    "cube = power_of(3)\n",
    "\n",
    "print(square(5))  # 25 \n",
    "print(cube(2))    # 8     "
   ]
  },
  {
   "cell_type": "markdown",
   "id": "2e3c636a",
   "metadata": {},
   "source": [
    "# One function as input of next. \n",
    "###\n",
    "def fun_a():\n",
    "    print(\"inside fun_a\")\n",
    "    \n",
    "def fun_b(z):\n",
    "    return \n",
    "    return z() \n",
    "\n",
    "fun_b(fun_a)"
   ]
  },
  {
   "cell_type": "code",
   "execution_count": null,
   "id": "600d049a",
   "metadata": {},
   "outputs": [
    {
     "name": "stdout",
     "output_type": "stream",
     "text": [
      "<function fun_a at 0x000001BB6BF18680>\n",
      "inside fun_a\n"
     ]
    },
    {
     "data": {
      "text/plain": [
       "8"
      ]
     },
     "execution_count": 9,
     "metadata": {},
     "output_type": "execute_result"
    }
   ],
   "source": [
    "def fun_a(k):      \n",
    "    print(\"inside fun_a\")\n",
    "    return k**3        \n",
    "\n",
    "#gloabl frame of fun_a     \n",
    "def fun_b(z):#fun_b(fun_a)\n",
    "    print(z)    \n",
    "    return z(8) #z = fun_a > go to line 1 \n",
    " \n",
    "#global frame of fun_b  \n",
    "fun_b(fun_a)    # z = fun_a  \n"
   ]
  },
  {
   "cell_type": "markdown",
   "id": "68f0354c",
   "metadata": {},
   "source": [
    "# lambda functions. \n",
    "returns funtion itself.  \n",
    "\n",
    "> not reusable \n",
    "> written in one line.\n",
    "\n",
    "Use in higher order functions or chainig of function. i.e. function returns another fuction. \n",
    "\n",
    "> use one lambda fun for one task.\n",
    "\n",
    "> # quick transformation inside a chain.\n"
   ]
  },
  {
   "cell_type": "code",
   "execution_count": null,
   "id": "bdceccf2",
   "metadata": {},
   "outputs": [
    {
     "data": {
      "text/plain": [
       "<function __main__.<lambda>(a)>"
      ]
     },
     "execution_count": 10,
     "metadata": {},
     "output_type": "execute_result"
    }
   ],
   "source": [
    "lambda a: a*2 "
   ]
  },
  {
   "cell_type": "code",
   "execution_count": null,
   "id": "b32f9ada",
   "metadata": {},
   "outputs": [
    {
     "data": {
      "text/plain": [
       "8"
      ]
     },
     "execution_count": 21,
     "metadata": {},
     "output_type": "execute_result"
    }
   ],
   "source": [
    "x = lambda a,b: a+b \n",
    "x(2,6)  "
   ]
  },
  {
   "cell_type": "code",
   "execution_count": null,
   "id": "cbfacb48",
   "metadata": {},
   "outputs": [
    {
     "data": {
      "text/plain": [
       "True"
      ]
     },
     "execution_count": 22,
     "metadata": {},
     "output_type": "execute_result"
    }
   ],
   "source": [
    "#character in string \n",
    "a = lambda s:\"l\" in s \n",
    "a(\"kalam\") "
   ]
  },
  {
   "cell_type": "code",
   "execution_count": null,
   "id": "73f6f8c3",
   "metadata": {},
   "outputs": [
    {
     "data": {
      "text/plain": [
       "'odd'"
      ]
     },
     "execution_count": 23,
     "metadata": {},
     "output_type": "execute_result"
    }
   ],
   "source": [
    "b = lambda x: \"even\" if x%2 == 0 else \"odd\" \n",
    "b(5)"
   ]
  },
  {
   "cell_type": "code",
   "execution_count": null,
   "id": "c972e1ed",
   "metadata": {},
   "outputs": [
    {
     "name": "stdout",
     "output_type": "stream",
     "text": [
      "1024\n"
     ]
    }
   ],
   "source": [
    "#Use for chaining.   "
   ]
  },
  {
   "cell_type": "code",
   "execution_count": 1,
   "id": "2cc263e6",
   "metadata": {},
   "outputs": [
    {
     "data": {
      "text/plain": [
       "16384"
      ]
     },
     "execution_count": 1,
     "metadata": {},
     "output_type": "execute_result"
    }
   ],
   "source": [
    "#genrating new function baed on conditions. \n",
    "def op(n):  #global variable. \n",
    "    result = (lambda x: x*x)(n)     #result = fuction \n",
    "    result = (lambda x: 2*x)(result)  #parameter of lambda i.e. x will take argument value as result. \n",
    "    result = (lambda x: x**2)(result)\n",
    "    return result  \n",
    "\n",
    "op(8)\n"
   ]
  },
  {
   "cell_type": "markdown",
   "id": "10e23b32",
   "metadata": {},
   "source": [
    "# map( lambda, list, tuple, stirng, set) : it ittrates over a list and do the given operation on every element.\n",
    "\n",
    "# filter(lmabda, list, tuple, string, set) : it filters out the items of the list on basis of given condition. "
   ]
  },
  {
   "cell_type": "code",
   "execution_count": null,
   "id": "7856b64e",
   "metadata": {},
   "outputs": [
    {
     "data": {
      "text/plain": [
       "[18, 32, 50]"
      ]
     },
     "execution_count": 3,
     "metadata": {},
     "output_type": "execute_result"
    }
   ],
   "source": [
    "#Transforamtion piplines\n",
    "def transform(l):\n",
    "    result = list(\n",
    "    map(lambda x: 2*x,  \n",
    "        filter(lambda x: x > 5,\n",
    "               map(lambda x: x*x,l))))\n",
    "    return result \n",
    "\n",
    "num = [1,2,3,4,5] \n",
    "transform(num)   "
   ]
  },
  {
   "cell_type": "code",
   "execution_count": null,
   "id": "184e0696",
   "metadata": {},
   "outputs": [
    {
     "name": "stdout",
     "output_type": "stream",
     "text": [
      "[2, 4, 6, 8, 10, 12]\n"
     ]
    }
   ],
   "source": [
    "#HOF: One fuction gets another function, as input. \n",
    "def square():\n",
    "    return x**2\n",
    "\n",
    "def transform(f,l):\n",
    "    out = []\n",
    "    for i in l:\n",
    "        out.append(f(i))        \n",
    "    print(out)\n",
    "\n",
    "l= [1,2,3,4,5,6]\n",
    "transform(lambda x: x**2,l) "
   ]
  },
  {
   "cell_type": "code",
   "execution_count": null,
   "id": "9ca52b08",
   "metadata": {},
   "outputs": [],
   "source": []
  },
  {
   "cell_type": "code",
   "execution_count": null,
   "id": "3f31d1fd",
   "metadata": {},
   "outputs": [
    {
     "data": {
      "text/plain": [
       "[{'name': 'Charlie', 'avg': 90.66666666666667}, {'name': 'Alice', 'avg': 90.0}]"
      ]
     },
     "execution_count": 20,
     "metadata": {},
     "output_type": "execute_result"
    }
   ],
   "source": [
    "students = [\n",
    "    {\"name\": \"Alice\", \"marks\": [80, 90, 100]},\n",
    "    {\"name\": \"Bob\", \"marks\": [60, 70, 65]},\n",
    "    {\"name\": \"Charlie\", \"marks\": [95, 85, 92]}\n",
    "]  \n",
    "\n",
    "#Pipeline\n",
    "def Topper(L):\n",
    "    result = sorted(\n",
    "     filter(\n",
    "        lambda s: s[\"avg\"] > 75,\n",
    "        map(\n",
    "            lambda student: {\"name\": student[\"name\"], \"avg\": sum(student[\"marks\"]) / len(student[\"marks\"])}, L)\n",
    "    ),\n",
    "    key = lambda s: s[\"avg\"], \n",
    "    reverse = True \n",
    ")\n",
    "    return result\n",
    "Topper(students)    "
   ]
  },
  {
   "cell_type": "code",
   "execution_count": null,
   "id": "0db2029d",
   "metadata": {},
   "outputs": [],
   "source": [
    "def stnd(iid):\n",
    "    \n",
    "    def mean_dev(mue):       \n",
    "        print(\"Mean:\",mue)  \n",
    "     \n",
    "        SD =  (lambda x: (sum(x)/len(x))**0.5)(list(map(lambda x: x**2, list(map(lambda x: abs(x - mue),iid)))))\n",
    "        #lambda = parent: mean_dev \n",
    "        \n",
    "        return \"standard_deviation:\",SD   \n",
    "    return mean_dev   #nested function called by parrent function. \n",
    "\n",
    "iid_sample= [5.3, 6.0, 6.5, 5.2, 6.8, 6.7, 5.7, 4.4, 5.6, 6.4, 6.5, 6.2, 6.5, 4.9, 6.3, 4.4, 6.1, 5.6, 4.3, 6.1]\n",
    "\n",
    "stnd(iid_sample)(sum(iid_sample)/len(iid_sample))  "
   ]
  },
  {
   "cell_type": "markdown",
   "id": "a71c764f",
   "metadata": {},
   "source": [
    "# Namespaces:\n",
    "#it's a space that holds names(varibles, identifiers). programmatically they are dictonaries in which keys are variables and values are thair objects. \n",
    "\n",
    ">Builtin \n",
    ">Global\n",
    ">Local\n",
    ">Enclosing \n",
    "\n",
    "#And scope is the area, from where the namespace or any variabel is accessialbe.  \n",
    "\n",
    "# LEGB Rule: \n",
    "#The interpreter searches region of a python porgram form inside out, looking in the loacl, enclosing, global, and finally in the builtin scope.  \n",
    "\n",
    "def g(w):\n",
    "    def f(k): \n",
    "       y = k*k   inside the function(inside the body)\n",
    "     print(y)   \n",
    " \n",
    "    y = 4   #globel variable with global namespace, \n",
    "    f(y)    \n",
    "\n",
    "x = 1   \n",
    "g(x)   \n",
    "\n",
    "#variable with the same name in a program can exist in scopes are diferent. \n",
    "\n",
    "# def tem(a):\n",
    "    a = 9       \n",
    "    print(a)\n",
    "    \n",
    "a = 6    \n",
    "tem(a) \n",
    ">variables with the same name but in diferent namespace and to return output interpretur searches for local variable frist. it not assigned to local then find for "
   ]
  },
  {
   "cell_type": "code",
   "execution_count": null,
   "id": "3db3c5fc",
   "metadata": {},
   "outputs": [
    {
     "name": "stdout",
     "output_type": "stream",
     "text": [
      "8.0\n"
     ]
    }
   ],
   "source": [
    "def tem(a):\n",
    "    #a = 9 \n",
    "    print(a)\n",
    "\n",
    "a = float(8)\n",
    "a = 5 \n",
    "tem(a) \n"
   ]
  },
  {
   "cell_type": "markdown",
   "id": "c38d8909",
   "metadata": {},
   "source": [
    "# Built scope \n",
    "import builtins \n",
    "\n",
    "# Enclosing scope \n",
    "#area where the outer fun stores its values. "
   ]
  },
  {
   "cell_type": "code",
   "execution_count": null,
   "id": "ca1ca259",
   "metadata": {},
   "outputs": [
    {
     "name": "stdout",
     "output_type": "stream",
     "text": [
      "7\n",
      "5\n"
     ]
    }
   ],
   "source": [
    "\"LEGB\"\n",
    "def tem():\n",
    "    a = 5 #global(outer) scope value\n",
    "    def inner():\n",
    "        a = 7   #local \n",
    "        print(a)\n",
    "    inner()\n",
    "    print(a) #this output will get the return after the deactivation of local scope from the program. \n",
    "    \n",
    "a = 6  #global value. \n",
    "tem()      "
   ]
  },
  {
   "cell_type": "code",
   "execution_count": 21,
   "id": "27c37b24",
   "metadata": {},
   "outputs": [
    {
     "name": "stdout",
     "output_type": "stream",
     "text": [
      "inner 5\n",
      "outer 2\n"
     ]
    }
   ],
   "source": [
    "def outer(y):\n",
    "    y = 2\n",
    "    def inner(): \n",
    "        global y   #Change in enclosing variable \n",
    "        y += 1        \n",
    "        print(\"inner\",y)\n",
    "        \n",
    "    inner() \n",
    "    print(\"outer\",y)\n",
    "y = 4   \n",
    "outer(y)     "
   ]
  },
  {
   "cell_type": "markdown",
   "id": "722942b6",
   "metadata": {},
   "source": [
    "# Decorators: \n",
    "A decorators in fuctions takes another function as input an add some fuctionalies and returns it, without changing main components \n",
    "#beacuse of python fuctions are first class citizens. \n",
    "\n",
    "# Closuers(remebaring vlaues): \n",
    "after the deactiviation of the parent fuction the child function stores all variables of paret fuc in it. \n",
    "#because it called by parent one. "
   ]
  },
  {
   "cell_type": "code",
   "execution_count": null,
   "id": "e6659e6b",
   "metadata": {},
   "outputs": [
    {
     "data": {
      "text/plain": [
       "529"
      ]
     },
     "execution_count": 6,
     "metadata": {},
     "output_type": "execute_result"
    }
   ],
   "source": [
    "def modify(func, num):\n",
    "    return func(num) \n",
    "\n",
    "def square(num):\n",
    "    return num**2 \n",
    "\n",
    "modify(square, 23) "
   ]
  },
  {
   "cell_type": "code",
   "execution_count": null,
   "id": "2e22d716",
   "metadata": {},
   "outputs": [
    {
     "name": "stdout",
     "output_type": "stream",
     "text": [
      "***************\n",
      "OMKARA:\n",
      "***************\n",
      "***************\n",
      "Kalam's Vision ML/DL Research Lab\n",
      "***************\n"
     ]
    }
   ],
   "source": [
    "#First decorator\n",
    "def decorator(func):   \n",
    "    def wrapper():\n",
    "        print(\"***************\")\n",
    "        func()          \n",
    "        print(\"***************\")   #child fuction deactivated\n",
    "    return wrapper      #parent fuction deactivateed \n",
    "\n",
    " \n",
    "@decorator  \n",
    "def name():\n",
    "    print(\"OMKARA:\")\n",
    "@decorator   \n",
    "def name2():\n",
    "    print(\"Kalam's Vision ML/DL Research Lab\")\n",
    "\n",
    "name()\n",
    "name2()"
   ]
  },
  {
   "cell_type": "code",
   "execution_count": null,
   "id": "b2c9a78d",
   "metadata": {},
   "outputs": [
    {
     "name": "stdout",
     "output_type": "stream",
     "text": [
      "***************\n",
      "Kalam's Vision ML/DL Research Lab\n",
      "***************\n"
     ]
    }
   ],
   "source": [
    "def decorator(func):\n",
    "    print(\"***************\")\n",
    "    func()          \n",
    "    print(\"***************\")\n",
    "  \n",
    "def name():\n",
    "    print(\"Kalam's Vision ML/DL Research Lab\")\n",
    "    \n",
    "output = decorator(name)\n",
    "output()\n",
    "output2 = decorator(name2)\n",
    "output2()"
   ]
  },
  {
   "cell_type": "markdown",
   "id": "575d3a05",
   "metadata": {},
   "source": []
  },
  {
   "cell_type": "code",
   "execution_count": 11,
   "id": "032c76c1",
   "metadata": {},
   "outputs": [
    {
     "name": "stdout",
     "output_type": "stream",
     "text": [
      "OMKARA:\n",
      "time taken by funcion name 7.001126050949097 sec\n",
      "Kalam's Vision ML/DL Research Lab\n",
      "time taken by funcion name2 0.0 sec\n"
     ]
    }
   ],
   "source": [
    "#First decorator\n",
    "import time     \n",
    "def decorator(func):   \n",
    "    def wrapper(*args):\n",
    "       start =  time.time()   \n",
    "       func(*args)          \n",
    "       print(\"time taken by funcion\",func.__name__, time.time()- start,\"sec\")      #child fuction deactivated\n",
    "    return wrapper      #parent fuction deactivateed \n",
    "\n",
    "\n",
    "@decorator  \n",
    "def name():\n",
    "    time.sleep(7)\n",
    "    print(\"OMKARA:\")\n",
    "    \n",
    "@decorator   \n",
    "def name2():\n",
    "    print(\"Kalam's Vision ML/DL Research Lab\")\n",
    "\n",
    "name()\n",
    "name2()"
   ]
  },
  {
   "cell_type": "code",
   "execution_count": null,
   "id": "9c2baad5",
   "metadata": {},
   "outputs": [
    {
     "name": "stdout",
     "output_type": "stream",
     "text": [
      "Avg: 72.33333333333333\n"
     ]
    }
   ],
   "source": [
    "# decorator will inure that the input ot the function is of correct type. \n",
    "def sanity_check(data_type):\n",
    "   def outer_wrapper(func):\n",
    "      def inner_wrapper(*args):\n",
    "         if type(*args) == data_type:\n",
    "          func(*args)\n",
    "         else:\n",
    "            raise TypeError(\"Data_type of the arguments is not correct\") \n",
    "      return inner_wrapper \n",
    "   return outer_wrapper \n",
    "\n",
    "@sanity_check(list)\n",
    "#student grading system\n",
    "\n",
    "def avg(marks):\n",
    "   mean = sum(marks)/len(marks)\n",
    "   print(\"Avg:\",mean) \n",
    "        \n",
    "   def get_grade(mean):   \n",
    "      if mean >= 80:\n",
    "         return \"Grade A\"\n",
    "      elif 70 <= mean <80:  \n",
    "            return \"Grade: B\"\n",
    "      elif 60<= mean < 70:\n",
    "            return \"Grade: C\"\n",
    "      else:\n",
    "            return \"Grade: D\"   \n",
    "        \n",
    "   return get_grade(mean)     \n",
    "            \n",
    "l = [82,75,60]\n",
    "avg(l)"
   ]
  },
  {
   "cell_type": "code",
   "execution_count": null,
   "id": "66994367",
   "metadata": {},
   "outputs": [
    {
     "name": "stdout",
     "output_type": "stream",
     "text": [
      "Avg: 72.33333333333333\n"
     ]
    },
    {
     "data": {
      "text/plain": [
       "'Grade: B'"
      ]
     },
     "execution_count": 17,
     "metadata": {},
     "output_type": "execute_result"
    }
   ],
   "source": []
  },
  {
   "cell_type": "markdown",
   "id": "7a740489",
   "metadata": {},
   "source": [
    "# Recursion\n",
    "A defiend uction callses itself(itration) until a base case get satisfied. \n"
   ]
  },
  {
   "cell_type": "code",
   "execution_count": null,
   "id": "12e6875f",
   "metadata": {},
   "outputs": [
    {
     "name": "stdout",
     "output_type": "stream",
     "text": [
      "Factorial is not defiend for negative values\n"
     ]
    }
   ],
   "source": [
    "#fact\n",
    "def fact(n):\n",
    "    if n == 1 or n== 0:  \n",
    "     return 1\n",
    "    elif n < 0:\n",
    "        return TypeError(\"Factorial is not defiend for negative values\")\n",
    "    return n*fact(n-1)    #stacking of the values. \n",
    "\n",
    "print(fact(-9))  "
   ]
  },
  {
   "cell_type": "code",
   "execution_count": null,
   "id": "0debbaf3",
   "metadata": {},
   "outputs": [
    {
     "data": {
      "text/plain": [
       "362880"
      ]
     },
     "execution_count": 11,
     "metadata": {},
     "output_type": "execute_result"
    }
   ],
   "source": [
    "#Itrative \n",
    "def facto(n):\n",
    "    if n == 0 or n== 1:\n",
    "        return 1\n",
    "    elif n < 0:\n",
    "        return TypeError(\"Factorial is not defiend for negatice values\")\n",
    "    fact = 1 \n",
    "    for i in range(1,n+1): \n",
    "     fact *= i \n",
    "    return fact   \n",
    "\n",
    "factorial = facto \n",
    "factorial(9)  "
   ]
  },
  {
   "cell_type": "code",
   "execution_count": null,
   "id": "6adbbe67",
   "metadata": {},
   "outputs": [
    {
     "name": "stdout",
     "output_type": "stream",
     "text": [
      "1\n"
     ]
    }
   ],
   "source": [
    "#Find a perticular element in a list: \n",
    "def check_ele(l):\n",
    "    if len(l) == 0:\n",
    "        return 0  \n",
    "    elif l[0] == 9:\n",
    "        return \"the elem is present in the list\"\n",
    "    else: \n",
    "        return check_ele(l[1: len(l)+1])  #reduce the length. \n",
    "    \n",
    "ans  = check_ele([1,2,3,4,5,6,0,8,9])\n",
    "print(ans)"
   ]
  },
  {
   "cell_type": "code",
   "execution_count": null,
   "id": "9840845e",
   "metadata": {},
   "outputs": [
    {
     "name": "stdout",
     "output_type": "stream",
     "text": [
      "Palindrome\n"
     ]
    }
   ],
   "source": [
    "def palin(word):\n",
    "    if len(word) <= 1: \n",
    "        print(\"Palindrome\") \n",
    "    elif word[0] == word[-1]:    \n",
    "        palin(word[1: -1])  #Calling the inide the condition \n",
    "    else:\n",
    "        print(\"Not a Palindrome\")\n",
    "    \n",
    "palin(\"malyaylam\")   "
   ]
  },
  {
   "cell_type": "code",
   "execution_count": null,
   "id": "79ae35ca",
   "metadata": {},
   "outputs": [],
   "source": [
    "    \n",
    "\n"
   ]
  },
  {
   "cell_type": "markdown",
   "id": "1dc3dbc7",
   "metadata": {},
   "source": [
    "# Fibonaci: \n",
    "0,1,1,2,3,5,8,13,21,34,55,89....... \n",
    "every third no. will be the solution of the 1st two numbers. "
   ]
  },
  {
   "cell_type": "code",
   "execution_count": null,
   "id": "e7c9e509",
   "metadata": {},
   "outputs": [
    {
     "name": "stdout",
     "output_type": "stream",
     "text": [
      "39088169\n",
      "7.529918432235718\n"
     ]
    }
   ],
   "source": [
    "#sum of the fibonaci sequance. \n",
    "import time \n",
    "def fibo(n):\n",
    "    if n == 0 or n==1:\n",
    "        return 1    \n",
    "    else:\n",
    "        return fibo(n-1) + fibo(n-2)     \n",
    "start = time.time()\n",
    "print(fibo(37)) \n",
    "print(time.time()-start)  "
   ]
  },
  {
   "cell_type": "code",
   "execution_count": null,
   "id": "9f6b00b8",
   "metadata": {},
   "outputs": [
    {
     "name": "stdout",
     "output_type": "stream",
     "text": [
      "[5, 6, 4]\n"
     ]
    }
   ],
   "source": []
  },
  {
   "cell_type": "code",
   "execution_count": null,
   "id": "0ee20cef",
   "metadata": {},
   "outputs": [
    {
     "ename": "TypeError",
     "evalue": "'int' object is not callable",
     "output_type": "error",
     "traceback": [
      "\u001b[1;31m---------------------------------------------------------------------------\u001b[0m",
      "\u001b[1;31mTypeError\u001b[0m                                 Traceback (most recent call last)",
      "Cell \u001b[1;32mIn[18], line 10\u001b[0m\n\u001b[0;32m      7\u001b[0m     l\u001b[38;5;241m.\u001b[39mremove(m)           \u001b[38;5;66;03m# removes one occurrence of m\u001b[39;00m\n\u001b[0;32m      8\u001b[0m     \u001b[38;5;28;01mreturn\u001b[39;00m [m] \u001b[38;5;241m+\u001b[39m sort(l)  \u001b[38;5;66;03m# recursive call and concatenation\u001b[39;00m\n\u001b[1;32m---> 10\u001b[0m \u001b[38;5;28mprint\u001b[39m(sort([\u001b[38;5;241m5\u001b[39m, \u001b[38;5;241m3\u001b[39m, \u001b[38;5;241m6\u001b[39m, \u001b[38;5;241m4\u001b[39m]))\n",
      "Cell \u001b[1;32mIn[18], line 6\u001b[0m, in \u001b[0;36msort\u001b[1;34m(l)\u001b[0m\n\u001b[0;32m      3\u001b[0m \u001b[38;5;28;01mif\u001b[39;00m \u001b[38;5;28mlen\u001b[39m(l) \u001b[38;5;241m==\u001b[39m \u001b[38;5;241m0\u001b[39m:\n\u001b[0;32m      4\u001b[0m     \u001b[38;5;28;01mreturn\u001b[39;00m []\n\u001b[1;32m----> 6\u001b[0m m \u001b[38;5;241m=\u001b[39m \u001b[38;5;28mmin\u001b[39m(l)\n\u001b[0;32m      7\u001b[0m l\u001b[38;5;241m.\u001b[39mremove(m)           \u001b[38;5;66;03m# removes one occurrence of m\u001b[39;00m\n\u001b[0;32m      8\u001b[0m \u001b[38;5;28;01mreturn\u001b[39;00m [m] \u001b[38;5;241m+\u001b[39m sort(l)\n",
      "\u001b[1;31mTypeError\u001b[0m: 'int' object is not callable"
     ]
    }
   ],
   "source": [
    "#Sorting Recursion  \n",
    "def sort(l):\n",
    "    if len(l) == 0:\n",
    "        return []\n",
    "    \n",
    "    m = min(l)\n",
    "    l.remov(m)           # removes one occurrence of m\n",
    "    return [m] + sort(l)  # recursive call and concatenation\n",
    "\n",
    "print(sort([5, 3, 6, 4])) "
   ]
  },
  {
   "cell_type": "markdown",
   "id": "89bddc19",
   "metadata": {},
   "source": [
    "# Binary search. O(n) \n",
    "Reduce the number of searches based on conditions. \n",
    "and reach at a perticular search. \n",
    "\n",
    "#Sort the elements in list or array.  \n",
    "\n",
    "\n",
    ">mid of the array.  \n",
    "mid = l(len(l)//2)\n",
    "\n",
    "if mid == Tat:\n",
    "    print(\"bingo\")\n",
    "elif mid > Tat: \n",
    "    search for 1st half \n",
    "    mid_1sthalf = l\n",
    "\n",
    "eles:\n",
    "    seach for 2nd half \n",
    "\n",
    "\n",
    ">2nd half \n",
    "if mid2 == Tat \n",
    "     print(\"bingo\")\n",
    "elif mid2 > Tat: \n",
    "    search for 1st half of 2nd half \n",
    "eles:\n",
    "    seach for 2nd half of 2nd half   \n",
    "\n",
    "\n"
   ]
  },
  {
   "cell_type": "code",
   "execution_count": null,
   "id": "d0dedaf5",
   "metadata": {},
   "outputs": [
    {
     "data": {
      "text/plain": [
       "('The element is at this index:', 12)"
      ]
     },
     "execution_count": 29,
     "metadata": {},
     "output_type": "execute_result"
    }
   ],
   "source": [
    "#Lineer_search:\n",
    "\n",
    "def search(l,k):      \n",
    "    for x in l: \n",
    "     if x == k:    \n",
    "        return f\"The element is at this index:\",l.index(x)\n",
    "    else: \n",
    "       return f\"Nop the element is not present in the list\"\n",
    "\n",
    "num = 5.0 \n",
    "L  =  [4.7, 6.2, 6.9, 5.9, 5.1, 6.1, 6.3, 5.8, 5.7, 6.5, 7.2, 5.7, 5.0, 4.8, 6.4, 7.2, 6.4, 5.8, 5.4, 4.9]\n",
    "search(L,num) \n",
    "\n",
    "    "
   ]
  },
  {
   "cell_type": "code",
   "execution_count": null,
   "id": "b0bf5e54",
   "metadata": {},
   "outputs": [
    {
     "name": "stdout",
     "output_type": "stream",
     "text": [
      "Target 7.2\n",
      "mid of list 5.9\n",
      "mid of 2nd half: 6.4\n"
     ]
    }
   ],
   "source": [
    "#Binary search: loop \n",
    "def search_binary(l,target):\n",
    "    l.sort() \n",
    "    print(f\"Target\",target)\n",
    "    if len(l) == 1:\n",
    "        return f\"bingo\",l[0]    \n",
    "       \n",
    "    mid = l[len(l)//2] \n",
    "    print(f\"mid of list\",mid) \n",
    "    \n",
    "    if mid == target:\n",
    "        return f\"bingo\",l.index(mid)\n",
    "    \n",
    "    elif mid > target: \n",
    "       mid = l[len(l[0: l.index(mid)])//2]\n",
    "       print(f\"mid of 1st half:\",mid)\n",
    "       \n",
    "       if mid == target:\n",
    "           return f\"bingo\",l.index(mid) \n",
    "       elif mid > target:\n",
    "            mid = l[len(l[0: l.index(mid)])//2]\n",
    "       else: \n",
    "           mid = l[len(l[l.index(mid)+1: ])//2]\n",
    "    \n",
    "    else:\n",
    "       mid = l[-len(l[l.index(mid)+1: ])//2]\n",
    "       print(f\"mid of 2nd half:\",mid)\n",
    "       if mid == target: \n",
    "           return f\"bingo\",l.index(mid)\n",
    "       elif mid > target: \n",
    "           mid = l[-len(l[ : l.index(mid)-1])//2]  #latak te \n",
    "       else:\n",
    "           mid = l[-len(l[l.index(mid)+1:])//2] \n",
    "             \n",
    "num = 7.2\n",
    "L  =  [4.7, 6.2, 6.9, 5.9, 5.1, 6.1, 6.3, 5.8, 5.7, 6.5, 7.2, 5.7, 5.0, 4.8, 6.4, 7.2, 6.4, 5.8, 5.4, 4.9]\n",
    "search_binary(L,num) \n"
   ]
  },
  {
   "cell_type": "code",
   "execution_count": null,
   "id": "423b2e9c",
   "metadata": {},
   "outputs": [
    {
     "data": {
      "text/plain": [
       "('Bingo!, the target is at index', 18)"
      ]
     },
     "execution_count": 5,
     "metadata": {},
     "output_type": "execute_result"
    }
   ],
   "source": [
    "def binary_search(l,target):\n",
    "    l.sort()\n",
    "    start = 0\n",
    "    end = len(l)-1 \n",
    "    while start <= end:\n",
    "       mid = l[(start+ end)//2]\n",
    "       \n",
    "       if  mid  == target: \n",
    "           return f\"Bingo!, the target is at index\",l.index(mid)      \n",
    "       elif mid > target:\n",
    "           end = l.index(mid)-1 \n",
    "       else:\n",
    "           start = l.index(mid)+1 \n",
    "              \n",
    "num = 7.2\n",
    "L  =  [4.7, 6.2, 6.9, 5.9, 5.1, 6.1, 6.3, 5.8, 5.7, 6.5, 7.2,\n",
    "        5.7, 5.0, 4.8, 6.4, 7.2, 6.4, 5.8, 5.4, 4.9]\n",
    "binary_search(L,num) "
   ]
  },
  {
   "cell_type": "markdown",
   "id": "b3068d70",
   "metadata": {},
   "source": [
    "# Time Complaxity Binary_search:  O(k) \n",
    "the no of time the n(size) get halved. \n",
    "\n",
    "size of the array -> n  \n",
    "\n",
    "bingo at Kth at itration == log(n)base2  "
   ]
  },
  {
   "cell_type": "code",
   "execution_count": null,
   "id": "4c772c91",
   "metadata": {},
   "outputs": [],
   "source": [
    "def binary_search():\n",
    "    start = 0 \n",
    "    end = len()"
   ]
  },
  {
   "cell_type": "code",
   "execution_count": null,
   "id": "ce6b65f9",
   "metadata": {},
   "outputs": [
    {
     "name": "stdout",
     "output_type": "stream",
     "text": [
      "Sorted list: [4.7, 4.8, 4.9, 5.0, 5.1, 5.4, 5.7, 5.7, 5.8, 5.8, 5.9, 6.1, 6.2, 6.3, 6.4, 6.4, 6.5, 6.9, 7.2, 7.2]\n",
      "mid element: 5.8\n",
      "mid element: 6.4\n",
      "mid element: 6.9\n",
      "mid element: 7.2\n",
      "bingo, index=18\n"
     ]
    }
   ],
   "source": []
  },
  {
   "cell_type": "code",
   "execution_count": null,
   "id": "6bf0f616",
   "metadata": {},
   "outputs": [
    {
     "name": "stdout",
     "output_type": "stream",
     "text": [
      "5.8\n"
     ]
    },
    {
     "data": {
      "text/plain": [
       "<function print(*args, sep=' ', end='\\n', file=None, flush=False)>"
      ]
     },
     "execution_count": 64,
     "metadata": {},
     "output_type": "execute_result"
    }
   ],
   "source": [
    "\n",
    "start = 0\n",
    "end = len(l)-1 \n",
    "l  =  [4.7, 6.2, 6.9, 5.9, 5.1, 6.1, 6.3, 5.8, 5.7, 6.5, 7.2, 5.7, 5.0, 4.8, 6.4, 7.2, 6.4, 5.8, 5.4, 4.9]\n",
    "l.sort()\n",
    "mid = l[(start+end)//2] \n",
    "print(mid)\n",
    "\n",
    "\n"
   ]
  },
  {
   "cell_type": "code",
   "execution_count": 1,
   "id": "c636b438",
   "metadata": {},
   "outputs": [
    {
     "name": "stdout",
     "output_type": "stream",
     "text": [
      "[-1, 3, 4, 5, 7, 8, 9, 10]\n",
      "7\n",
      "4\n",
      "4\n",
      "4\n",
      "9\n"
     ]
    }
   ],
   "source": [
    "#binary search \n",
    "Tat = 3 \n",
    "l = [-1,3,4,7,5,9,8,10]\n",
    "l.sort()\n",
    "print(l)\n",
    "mid = l[len(l)//2]    \n",
    "\n",
    "print(mid)  #7 \n",
    "\n",
    "mid_inx = (l.index(7)) #4 \n",
    "\n",
    "len2 = len(l[0:mid_inx])   #len of 1at half \n",
    "print(len2) \n",
    "\n",
    "mi2 = l[len2//2]\n",
    "print(mi2)  \n",
    "\n",
    "\n",
    "len3 = len(l[mid_inx:])\n",
    "\n",
    "print(len3)\n",
    "mi3 = (l[-len3//2])\n",
    "print(mi3)  \n"
   ]
  }
 ],
 "metadata": {
  "kernelspec": {
   "display_name": "base",
   "language": "python",
   "name": "python3"
  },
  "language_info": {
   "codemirror_mode": {
    "name": "ipython",
    "version": 3
   },
   "file_extension": ".py",
   "mimetype": "text/x-python",
   "name": "python",
   "nbconvert_exporter": "python",
   "pygments_lexer": "ipython3",
   "version": "3.12.7"
  }
 },
 "nbformat": 4,
 "nbformat_minor": 5
}
