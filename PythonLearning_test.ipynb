{
 "cells": [
  {
   "cell_type": "code",
   "execution_count": null,
   "id": "dbf89435",
   "metadata": {},
   "outputs": [
    {
     "name": "stdout",
     "output_type": "stream",
     "text": [
      "Thise is new line,Ok,Ok,thank you for thisIt's ok no worrryIt's ok, no worry\n"
     ]
    }
   ],
   "source": [
    "\"\"\"\"\"\"\n",
  {
   "cell_type": "markdown",
   "id": "209f953f",
   "metadata": {},
   "source": [
    "# @Introduction to variables.\n",
    "Assining values(numerical, string or doing libiraries operations) in a short form, which helps in doing multiple operation for that value. i.e. #var = pd.DataFrame(), #var = np.array() etc. No need to write such a big code repetatively.\n",
    "\n",
    "# Variables in python are case sencetive:\n",
    "roll = 5\n",
    "Roll = 10\n",
    "ROLL = 15 \n",
    "print(roll + Roll + ROLL) \n",
    "\n",
    "# Assaining values in a single line.\n",
    "x, y = 3, 4\n",
    "print(x,y) \n",
    "3, 4\n",
    "\n",
    "x= y = z = 10\n",
    "\n",
    "x,y = y,x #swaping of variables with each other.\n",
    "\n",
    "# Incrementation of the variables.\n",
    "count = 10 \n",
    "count += 20\n",
    "count *= 2\n",
    "count /= 15\n",
    "print(count)\n",
    "\n",
    "# Membership operator \n",
    "#in # not in \n",
    "#Return a boolean vlaue.\n",
    "\n",
    "# Chaining operators.\n",
    "x = 10\n",
    "print(5 < x > 6 )\n",
    "print(x<= 10 < 20)\n",
    "print(5 == x )\n",
    "\n",
    "# A variable can't begin with any character(Puncutaions, digits, Operational_symboles) i.e. _var, @avar, etc. \n"
   ]
  },
  {
   "cell_type": "code",
   "execution_count": null,
   "id": "dc589728",
   "metadata": {},
   "outputs": [
    {
     "name": "stdout",
     "output_type": "stream",
     "text": [
      "11\n",
      "21\n",
      "-8\n",
      "-32\n",
      "11\n",
      "30\n",
      "4.0\n",
      "False\n"
     ]
    }
   ],
   "source": [
    "a = 10 \n",
    "a = a+1 #Incremanting value of variables. \n",
    "print(a)\n",
    "a = a+10\n",
    "print(a)\n",
    "a = a-29 \n",
    "print(a)\n",
    "a = a*4\n",
    "print(a)\n",
    "a= a+43\n",
    "print(a)\n",
    "\n",
    "roll = 5\n",
    "Roll = 10\n",
    "ROLL = 15 \n",
    "print(roll + Roll + ROLL)\n",
    "\n",
    "count = 10 \n",
    "count += 20\n",
    "count *= 2\n",
    "count /= 15\n",
    "print(count)\n",
    "\n",
    "print(\"python\" in \"A programing lanuage\")\n"
   ]
  },
  {
   "cell_type": "markdown",
   "id": "58ab227c",
   "metadata": {},
   "source": [
    "# Giving inputs for operations.\n",
    "#input function takes only string values by defult.\n",
    "\n",
    "print(\"Enter the no.\")\n",
    "n = int(input()) \n",
    "\n",
    "print(\"Enter the name\")\n",
    "p = str(input())"
   ]
  },
  {
   "cell_type": "markdown",
   "id": "d57c168f",
   "metadata": {},
   "source": [
    "# Variables types \n",
    "l = [23,34,54,65,43,35,42] #type list"
   ]
  },
  {
   "cell_type": "code",
   "execution_count": 11,
   "id": "7a5d2b43",
   "metadata": {},
   "outputs": [
    {
     "name": "stdout",
     "output_type": "stream",
     "text": [
      "<class 'list'>\n",
      "ok\n",
      "<class 'str'>\n",
      "<class 'float'>\n",
      "<class 'int'>\n",
      "<class 'bool'>\n"
     ]
    }
   ],
   "source": [
    "#list \n",
    "l = [23,34,54,5.76,43,\"ok\",35,True,42]\n",
    "print(type(l))\n",
    "print(l[5])\n",
    "print(type(l[5]))\n",
    "print(type(l[3]))\n",
    "print(type(l[6]))\n",
    "print(type(l[7]))"
   ]
  },
  {
   "cell_type": "markdown",
   "id": "b40a419e",
   "metadata": {},
   "source": [
    "# Operators and Expressions. \n",
    "#str1+str2 #Concatination of the strings.\n",
    "\n",
    "#Addining of str and int is not allowed.\n",
    "#Multiplying int with str results int value times repetation of the str.\n",
    "\n",
    "# Logical Operators.\n",
    "#and, or, not.\n",
    "\n",
    "# Precidance of the operators\n",
    "()-**-*-/-//-%-+-_-\n",
    "\n"
   ]
  },
  {
   "cell_type": "code",
   "execution_count": null,
   "id": "04c463e0",
   "metadata": {},
   "outputs": [
    {
     "name": "stdout",
     "output_type": "stream",
     "text": [
      "6\n",
      "6\n",
      "Kalam'sVisionML/DL Research Lab.\n",
      "1\n",
      "2\n",
      "2.3333333333333335\n",
      "False\n",
      "False\n",
      "True\n",
      "False\n",
      "True\n",
      "True\n",
      " vision\n",
      "True\n",
      "True\n",
      "33\n"
     ]
    }
   ],
   "source": [
    "a = 2*3\n",
    "b = 2+4\n",
    "print(b)\n",
    "print(a)\n",
    "\n",
    "var = \"Kalam's\"\n",
    "var1 = \"Vision\"\n",
    "var2 = \"ML/DL Research Lab.\"\n",
    "print(var+var1+var2) #Concatination.\n",
    "\n",
    "#print(a+var) \n",
    "#print(b*var1)\n",
    "\n",
    "print(7%3) #Remainder \n",
    "print(7//3) #Flooer value\n",
    "print(7/3)  #Normal Division\n",
    "print(5>10)\n",
    "print(5>=10)\n",
    "print(5 != 10)\n",
    "print(5 == 10)\n",
    "\n",
    "\n",
    "print(4> 3 and 8< 9) \n",
    "print(5 < 4 or 6< 7)  #False or True = True\n",
    "\n",
    "\n",
    "\n",
    "\n",
    "lab_name = \"Kalam's vision lab\"\n",
    "print(lab_name[7:14]) #sclicing\n",
    "\n",
    "print(\"kalam's\"< \"vision\") #compairs lettres in alphabetical order.\n",
    "print(\"abcdf\">\"abcde\") \n",
    "\n",
    "print(len(\"Kalam's vision ML/DL Research Lab\")) #len of strings\n",
    "\n"
   ]
  },
  {
   "cell_type": "code",
   "execution_count": null,
   "id": "dac1b8aa",
   "metadata": {},
   "outputs": [
    {
     "name": "stdout",
     "output_type": "stream",
     "text": [
      "<class 'int'>\n",
      "<class 'float'>\n",
      "<class 'str'>\n",
      "<class 'float'>\n"
     ]
    }
   ],
   "source": [
    "#variables\n",
    "#Dynamic Typing: kipping variable same and changing data type\n",
    "#Computer stores every data tyep at diffrent diffrent memory locations. \n",
    "n = 10\n",
    "print(type(n))\n",
    "n = n/2\n",
    "print(type(n))\n",
    "\n",
    "var = \"Kalam\"\n",
    "print(type(var))\n",
    "var = len(var)/2\n",
    "print(type(var))\n",
    "\n"
   ]
  },
  {
   "cell_type": "markdown",
   "id": "85a546a3",
   "metadata": {},
   "source": [
    "# Escape characters and types of quotes:\n",
    "#\\ : to connect the stetements. \n",
    "#\\t : to give space between sentancec.\n",
    "#\\n : to change the line in the output.\n",
    "\n",
    "#use of triple strings to print the outout divided into multiple lines."
   ]
  },
  {
   "cell_type": "code",
   "execution_count": null,
   "id": "64968fc6",
   "metadata": {},
   "outputs": [
    {
     "name": "stdout",
     "output_type": "stream",
     "text": [
      "The end-term's\n",
      " exam is on 3rd sep.\n",
      "we are form \"iit\" madras\n",
      "Kalam's vision lab\n",
      "ok\n",
      "      we\n",
      "      will meet\n",
      "      tommarow\n",
      "      rather than \n",
      "      today\n",
      "      \n"
     ]
    }
   ],
   "source": [
    "print(\"The end-term's\\n exam is on 3rd sep.\")\n",
    "print(\"we are form \\\"iit\\\" madras\" )\n",
    "print(\"Kalam's \" \\\n",
    "\"vision \" \\\n",
    "\"lab\")\n",
    "print('''ok\n",
    "      we\n",
    "      will meet\n",
    "      tommarow\n",
    "      rather than \n",
    "      today\n",
    "      ''')"
   ]
  },
  {
   "cell_type": "markdown",
   "id": "674beeba",
   "metadata": {},
   "source": [
    "# String methods:\n",
    "lower() #Converts string lower case.\n",
    "upper()\n",
    "capitalize() #Converts the chaaracter to capital.\n",
    "title()  #first alphabaet of each word becomes capital.\n",
    "swapcase() #lower to upper and vice - varsa.\n",
    "\n",
    "#membership methods: #returns boolean value. \n",
    "islower()  \n",
    "isupper()\n",
    "istitle()\n",
    "isalpha()     \n",
    "isalnum() #abc123\n",
    "isdigit() \n",
    "\n",
    "#Strip() string method: "
   ]
  },
  {
   "cell_type": "code",
   "execution_count": null,
   "id": "7d55ccc8",
   "metadata": {},
   "outputs": [
    {
     "name": "stdout",
     "output_type": "stream",
     "text": [
      "False\n",
      "Kalam'S Vision Ml/Dl Research Lab\n",
      "False\n",
      "KALAM\n",
      "True\n",
      "lab \n"
     ]
    }
   ],
   "source": [
    "var = \"kalam's vision ml/dl research lab\"\n",
    "print(var.istitle())\n",
    "print(var.title())\n",
    "\n",
    "var = \"kalam\"\n",
    "print(var.isupper())\n",
    "print(var.upper()) \n",
    "\n",
    "lab_ID  = \"Kalam1931\"\n",
    "print(lab_ID.isalnum()) \n",
    "\n",
    "df = \"lab \"\n",
    "print(df.strip(\"-\")) \n",
    "\n",
    "\n",
    "\n",
    "\n"
   ]
  },
  {
   "cell_type": "markdown",
   "id": "d249b4d8",
   "metadata": {},
   "source": []
  },
  {
   "cell_type": "code",
   "execution_count": 14,
   "id": "f4f4f6a7",
   "metadata": {},
   "outputs": [
    {
     "name": "stdout",
     "output_type": "stream",
     "text": [
      "Yes, exist\n",
      "-1\n"
     ]
    }
   ],
   "source": [
    "#Cheak if the word or line is exist in the file.\n",
    "def found():\n",
    "    word = \"Introduction to Algo\"\n",
    "    with open(\"practice.text\",\"r\") as f:\n",
    "        data = f.read()\n",
    "        if(word in data):\n",
    "            print(\"Yes, exist\")\n",
    "        else:\n",
    "            print(\"Nop, doesn't exist\")\n",
    "\n",
    "found()\n",
    "\n",
    "#Finding the line No.\n",
    "def find_no():\n",
    "    word = \"Hi\"\n",
    "    data =True\n",
    "    line_no = 1\n",
    "    with open(\"practice.text\",\"r\") as f:\n",
    "        while data:\n",
    "         data = f.read()\n",
    "        if (word in data): \n",
    "            print(line_no)\n",
    "            return\n",
    "        line_no +=1  \n",
    "\n",
    "    return -1\n",
    "\n",
    "print(find_no())\n"
   ]
  },
  {
   "cell_type": "code",
   "execution_count": null,
   "id": "37c6f5ab",
   "metadata": {},
   "outputs": [
    {
     "name": "stdout",
     "output_type": "stream",
     "text": [
      "3\n"
     ]
    }
   ],
   "source": [
    "#Count of even no. from the file\n",
    "count = 0\n",
    "with open(\"practice.text\",\"r\") as f:\n",
    "    data = f.read()\n",
    "\n",
    "    num = data.split(\",\")\n",
    "    for val in num:\n",
    "        if(int(val)%2 != 0): #Odd\n",
    "            count +=1 \n",
    "print(count)           \n"
   ]
  },
  {
   "cell_type": "code",
   "execution_count": null,
   "id": "9a027dc4",
   "metadata": {},
   "outputs": [
    {
     "name": "stdout",
     "output_type": "stream",
     "text": [
      "Hi Sir,\n",
      " i'm learnig ML with Python from Introduction to Algo Book\n"
     ]
    }
   ],
   "source": [
    "#Let's practice\n",
    "#Creat a file \"___\"  add 5 line data in it.\n",
    "#with open(\"practice.text\",\"r\") as f:\n",
    "    #data = f.write(\"Hi Sir, \\n i'm learning Ml python from sebastian Raschaka's book\")\n",
    "    #data = f.read()\n",
    "    #print(data) \n",
    "\n",
    "#Writing a function that replace \"__\"  with \"__\" in file.\n",
    " # \"r\" + \"w\"(Over write) \n",
    "\n",
    "with open(\"practice.text\",\"r\") as f:\n",
    "    data = f.read()\n",
    "\n",
    "    N_data = data.replace(\"R\", \"Python\")\n",
    "    print(N_data)"
   ]
  },
  {
   "cell_type": "code",
   "execution_count": null,
   "id": "9d27e484",
   "metadata": {
    "tags": [
     "\"RECURSION\""
    ]
   },
   "outputs": [
    {
     "name": "stdout",
     "output_type": "stream",
     "text": [
      "10\n",
      "9\n",
      "8\n",
      "7\n",
      "6\n",
      "5\n",
      "4\n",
      "3\n",
      "2\n",
      "1\n"
     ]
    }
   ],
   "source": [
    "\"Recursion\" #Inter-related with the loops. \n",
    "#when Function callses itself repeatdely.\n",
    "\n",
    "# call -- call -- call ...\n",
    "def show(n):\n",
    "\n",
    "    if(n==0): #Base Case \"WHILE TYPE Condiition for breking the recurdion so that it will not run infinite time\"\n",
    "       return\n",
    "    else:\n",
    "     print(n)\n",
    "    show(n-1)\n",
    "\n",
    "show(10)\n",
    "\n"
   ]
  },
  {
   "cell_type": "code",
   "execution_count": 1,
   "id": "90596e0f",
   "metadata": {},
   "outputs": [
    {
     "data": {
      "text/plain": [
       "40320"
      ]
     },
     "execution_count": 1,
     "metadata": {},
     "output_type": "execute_result"
    }
   ],
   "source": [
    "#Fact\n",
    "def fact(n):\n",
    "    if(n== 0):\n",
    "        return 1\n",
    "    else:\n",
    "     return (n*fact(n-1))\n",
    "  \n",
    "fact(8)"
   ]
  },
  {
   "cell_type": "code",
   "execution_count": 20,
   "id": "b8176463",
   "metadata": {},
   "outputs": [
    {
     "data": {
      "text/plain": [
       "55"
      ]
     },
     "execution_count": 20,
     "metadata": {},
     "output_type": "execute_result"
    }
   ],
   "source": [
    "def sum_n(n):\n",
    "     if(n==0):\n",
    "          return  0\n",
    "     return sum_n(n-1) + n\n",
    "\n",
    "sum_n(10)     \n"
   ]
  },
  {
   "cell_type": "code",
   "execution_count": null,
   "id": "777e960c",
   "metadata": {},
   "outputs": [
    {
     "name": "stdout",
     "output_type": "stream",
     "text": [
      "[2, 3, 4, 5, 6, 7, 8, 9, 10]\n"
     ]
    }
   ],
   "source": [
    "#List of first 10 natural no.s #Recursion \n",
    "L = []\n",
    "def num(n):\n",
    "  if(n== 11):\n",
    "    return\n",
    "  else:\n",
    "    L.append(n)\n",
    "    num(n+1)\n",
    "\n",
    "num(2)\n",
    "print(L)"
   ]
  },
  {
   "cell_type": "markdown",
   "id": "37916f57",
   "metadata": {},
   "source": []
  },
  {
   "cell_type": "code",
   "execution_count": null,
   "id": "f281fd7f",
   "metadata": {},
   "outputs": [
    {
     "name": "stdout",
     "output_type": "stream",
     "text": [
      "[1, 2, 3, 4, 5, 6, 7, 8, 9, 10]\n"
     ]
    }
   ],
   "source": [
    "#While loop for list \n",
    "l = []\n",
    "i = 1\n",
    "while i <= 10:\n",
    "    l.append(i)\n",
    "    i += 1 \n",
    "print(l)   "
   ]
  },
  {
   "cell_type": "code",
   "execution_count": null,
   "id": "c1d390be",
   "metadata": {},
   "outputs": [],
   "source": [
    "#\"ESCAPE CHARACTORS (\\, \\n, \\r, \\t)\"\n",
    "#print(\"no_benifites of study\\rHuge_benifites\") \n",
    "#print(\"Preparre well for \\\"GATE EXAM\\\" 2025\") \n",
    "#print(\"Hello\\nhow are you\")\n",
    "\n",
    "#IDENTITY OPERATORS.(IS OR IS NOT) return { True / False}\n",
    "#x = 4 \n",
    "#y = 5\n",
    "#print(x is not y) # return True\n",
    "#print(id(x)) #\"\"ID of the data is the memory location of that data. \"\"\n",
    "#print(id(y)) \n",
    "#str  = \"Bolo\"\n",
    "#print(id(str)) \n",
    "\n",
    "#MEMBERSHIP OPERATORS. in / not in #return True/ False\n",
    "#list = [12,23,43]\n",
    "#print( 13 in list) \n",
    "\n",
    "\n",
    "Merit_list = [\"Juhi\",\"Prakash\" ,\"Kapoor\",\" Manish\"]\n",
    "\n",
    "Distinction_list = [\"Hari\",\"Tarun\",\"Manoj\",\"Arun\"]\n",
    "\n",
    "name  = input(\"Enter your name: \")\n",
    "\n",
    "if name in Merit_list:\n",
    "    print(\"Conggratulations, well good\")\n",
    "\n",
    "elif name in Distinction_list:\n",
    "    print(\"Well_good Champpiion\")\n",
    "\n",
    "else:\n",
    "    print(\"Not in merit_list, try naxt for time\")   "
   ]
  },
  {
   "cell_type": "code",
   "execution_count": 7,
   "id": "dbf71b61",
   "metadata": {},
   "outputs": [
    {
     "name": "stdout",
     "output_type": "stream",
     "text": [
      "23\n",
      "46\n",
      "69\n",
      "92\n",
      "115\n",
      "138\n",
      "161\n",
      "184\n",
      "207\n",
      "230\n"
     ]
    },
    {
     "data": {
      "text/plain": [
       "0"
      ]
     },
     "execution_count": 7,
     "metadata": {},
     "output_type": "execute_result"
    }
   ],
   "source": [
    "#Table of 25 \n",
    "def multi_n(n):\n",
    "    i= 1\n",
    "    while i  <= 10:\n",
    "        table = n*(i)\n",
    "        print(table)    \n",
    "        i = i+1           \n",
    "    else:\n",
    "        return 0 \n",
    "    \n",
    "multi_n(23) "
   ]
  },
  {
   "cell_type": "code",
   "execution_count": null,
   "id": "87a48191",
   "metadata": {},
   "outputs": [
    {
     "name": "stdout",
     "output_type": "stream",
     "text": [
      "3628800\n"
     ]
    }
   ],
   "source": [
    "#to find factorial of n.\n",
    "def fact_n(n):\n",
    "    fact = 1 \n",
    "    for i in range(1,11):\n",
    "        fact *= i \n",
    "    print(fact)    \n",
    "\n",
    "fact_n(9) \n"
   ]
  },
  {
   "cell_type": "markdown",
   "id": "096f3bd2",
   "metadata": {},
   "source": []
  },
  {
   "cell_type": "code",
   "execution_count": null,
   "id": "137e4b58",
   "metadata": {},
   "outputs": [],
   "source": [
    "#Algo for Factors of n\n",
    "def fact(n):\n",
    " factlist = []\n",
    " for i in range(1,n+1):\n",
    "    if(n/i == 0):\n",
    "       factlist.append(i)\n",
    " return factlist\n",
    "\n",
    "fact(10)    \n",
    "     \n",
    "#Prime.\n",
    "\n",
    "n = 9\n",
    "primelist = []\n",
    "factlist = []\n",
    "for i in range(1,n+1):\n",
    "   if(n/i == 0):\n",
    "    factlist.append(i)\n",
    "     \n",
    "if(factlist ==[i,n]):\n",
    "  primelist.append(i)\n",
    "\n",
    "   \n"
   ]
  },
  {
   "cell_type": "code",
   "execution_count": null,
   "id": "d5a64cf4",
   "metadata": {},
   "outputs": [
    {
     "name": "stdout",
     "output_type": "stream",
     "text": [
      "[]\n"
     ]
    }
   ],
   "source": [
    "\n",
    "def prime(i):\n",
    "    return fact(i) == [1,i]\n",
    "\n",
    "primelist = []\n",
    "for i in range(1,101):\n",
    "    if(prime(i)):\n",
    "        primelist.append(i)\n",
    " \n",
    "print(primelist)           \n"
   ]
  },
  {
   "cell_type": "code",
   "execution_count": null,
   "id": "34a7fa92",
   "metadata": {},
   "outputs": [],
   "source": [
    "n = 10\n",
    "primelist = []\n",
    "factlist = []\n",
    "for i in range(1,10):\n",
    "   if(n/i == 0):\n",
    "    factlist.append(i)\n",
    "\n",
    "print(factlist)\n",
    "\n"
   ]
  },
  {
   "cell_type": "code",
   "execution_count": 3,
   "id": "1c0730ad",
   "metadata": {},
   "outputs": [
    {
     "name": "stdout",
     "output_type": "stream",
     "text": [
      "O\n",
      "Omkar\n"
     ]
    }
   ],
   "source": [
    "#Sclicing\n",
    "name = \"Omkar\"\n",
    "print(name[0:1]) \n",
    "print(name[0:])"
   ]
  },
  {
   "cell_type": "markdown",
   "id": "79b5f942",
   "metadata": {},
   "source": []
  },
  {
   "cell_type": "code",
   "execution_count": null,
   "id": "7732a015",
   "metadata": {},
   "outputs": [
    {
     "name": "stdout",
     "output_type": "stream",
     "text": [
      "[78, 98, 67, 56]\n",
      "[[78, 98, 67, 56], [55, 45, 78, 54], [66, 33, 88, 99], 170, [33, 445, 5, 6]]\n",
      "['p', 'c', 'm', 'Avgp', 'G']\n",
      "None\n",
      "{'p': [78, 98, 67, 56], 'c': [55, 45, 78, 54], 'm': [66, 33, 88, 99], 'Avgp': 170, 'G': [33, 445, 5, 6]}\n"
     ]
    }
   ],
   "source": [
    "\"Concatination\"\n",
    "l= [1,3,5,7]\n",
    "l1 = [2,4,6,8]\n",
    "#print(l+l1) \n",
    "\n",
    "name  = \"Madhavan\"\n",
    "Sirname=  \"Mukund\" \n",
    "#print(name + Sirname)\n",
    "n = 3\n",
    "#print(name*n)\n",
    "\n",
    "\"All Operations of Dictonerys\"\n",
    "\n",
    "d = { \"p\": [78,98,67,56], \"c\": [65,45,87,65],\n",
    "      \"m\":[88,97,68,76]\n",
    "    }\n",
    "d[\"Avgp\"] = 158   #\"Adding a key value in D\"\n",
    "d[\"G\"] = [33,445,5,6]\n",
    "\n",
    "d.update({\"m\":[66,33,88,99],\"Avgp\":170,\"c\":[55,45,78,54]}) #Updaing keys. \n",
    "\n",
    "\"Geting a value of a perticular key\"\n",
    "print(d.get(\"Avgp\"))  # Getting only one value of any key\n",
    "print(d.get(\"p\"))\n",
    "\n",
    "\n",
    "print(list(d.values())) #getting list  all values of dict\n",
    "print(list(d.keys())) # getting list all keys \n",
    "\n",
    "\"\"\n",
    "update_Value = d.update({\"G\":[33,445,5,6]}) #Will show none, if the key and value doesn't exit while updating d.\n",
    "print(update_Value)\n",
    "\n",
    "print(d)\n",
    "#d[\"new key\"] = \"value\"\n",
    "#Addkey_value = d.get(\"name new Key\") \n"
   ]
  },
  {
   "cell_type": "code",
   "execution_count": 40,
   "id": "55d5d60e",
   "metadata": {},
   "outputs": [
    {
     "ename": "TypeError",
     "evalue": "unhashable type: 'set'",
     "output_type": "error",
     "traceback": [
      "\u001b[1;31m---------------------------------------------------------------------------\u001b[0m",
      "\u001b[1;31mTypeError\u001b[0m                                 Traceback (most recent call last)",
      "Cell \u001b[1;32mIn[40], line 5\u001b[0m\n\u001b[0;32m      3\u001b[0m s \u001b[38;5;241m=\u001b[39m {\u001b[38;5;124m\"\u001b[39m\u001b[38;5;124mpython\u001b[39m\u001b[38;5;124m\"\u001b[39m,\u001b[38;5;124m\"\u001b[39m\u001b[38;5;124mjava\u001b[39m\u001b[38;5;124m\"\u001b[39m,\u001b[38;5;124m\"\u001b[39m\u001b[38;5;124mR\u001b[39m\u001b[38;5;124m\"\u001b[39m,\u001b[38;5;124m\"\u001b[39m\u001b[38;5;124mC#\u001b[39m\u001b[38;5;124m\"\u001b[39m,\u001b[38;5;124m\"\u001b[39m\u001b[38;5;124mC++\u001b[39m\u001b[38;5;124m\"\u001b[39m,\u001b[38;5;124m\"\u001b[39m\u001b[38;5;124mC\u001b[39m\u001b[38;5;124m\"\u001b[39m}\n\u001b[0;32m      4\u001b[0m p \u001b[38;5;241m=\u001b[39m {\u001b[38;5;124m\"\u001b[39m\u001b[38;5;124mML\u001b[39m\u001b[38;5;124m\"\u001b[39m,\u001b[38;5;124m\"\u001b[39m\u001b[38;5;124mDL\u001b[39m\u001b[38;5;124m\"\u001b[39m,\u001b[38;5;124m\"\u001b[39m\u001b[38;5;124mRL\u001b[39m\u001b[38;5;124m\"\u001b[39m}\n\u001b[1;32m----> 5\u001b[0m \u001b[38;5;28mprint\u001b[39m(s\u001b[38;5;241m.\u001b[39madd(p)) \n\u001b[0;32m      7\u001b[0m \u001b[38;5;28mset\u001b[39m \u001b[38;5;241m=\u001b[39m {\u001b[38;5;241m2\u001b[39m,\u001b[38;5;241m3\u001b[39m,\u001b[38;5;241m4\u001b[39m,\u001b[38;5;241m5\u001b[39m,\u001b[38;5;241m4\u001b[39m,\u001b[38;5;241m5\u001b[39m,\u001b[38;5;241m5\u001b[39m,\u001b[38;5;241m34\u001b[39m,\u001b[38;5;241m5\u001b[39m,\u001b[38;5;241m6\u001b[39m}\n\u001b[0;32m      8\u001b[0m df  \u001b[38;5;241m=\u001b[39m {\u001b[38;5;241m1\u001b[39m,\u001b[38;5;241m3\u001b[39m,\u001b[38;5;241m5\u001b[39m,\u001b[38;5;241m7\u001b[39m,\u001b[38;5;241m9\u001b[39m,\u001b[38;5;241m11\u001b[39m,\u001b[38;5;241m3\u001b[39m,\u001b[38;5;241m33\u001b[39m} \n",
      "\u001b[1;31mTypeError\u001b[0m: unhashable type: 'set'"
     ]
    }
   ],
   "source": [
    "#Unorderd dataa type.\n",
    "\n",
    "s = {\"python\",\"java\",\"R\",\"C#\",\"C++\",\"C\"}\n",
    "p = {\"ML\",\"DL\",\"RL\"}\n",
    "print(s.add(p)) \n",
    "\n",
    "set = {2,3,4,5,4,5,5,34,5,6}\n",
    "df  = {1,3,5,7,9,11,3,33} \n",
    "print(set.intersection(df))\n",
    "print(set.union(df))"
   ]
  },
  {
   "cell_type": "markdown",
   "id": "cc75b16c",
   "metadata": {},
   "source": [
    "\n"
   ]
  },
  {
   "cell_type": "markdown",
   "id": "d24460db",
   "metadata": {},
   "source": []
  }
 ],
 "metadata": {
  "kernelspec": {
   "display_name": "base",
   "language": "python",
   "name": "python3"
  },
  "language_info": {
   "codemirror_mode": {
    "name": "ipython",
    "version": 3
   },
   "file_extension": ".py",
   "mimetype": "text/x-python",
   "name": "python",
   "nbconvert_exporter": "python",
   "pygments_lexer": "ipython3",
   "version": "3.12.7"
  }
 },
 "nbformat": 4,
 "nbformat_minor": 5
}
